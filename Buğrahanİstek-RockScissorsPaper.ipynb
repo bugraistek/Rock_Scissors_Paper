{
 "cells": [
  {
   "cell_type": "code",
   "execution_count": 18,
   "id": "24613d0f-7e73-46a6-afb3-92748bd0c0a9",
   "metadata": {},
   "outputs": [
    {
     "name": "stdout",
     "output_type": "stream",
     "text": [
      "Taş, Kağıt, Makas oyununa hoş geldiniz!\n",
      "Kurallar: Taş makası yener, Makas kağıdı yener, Kağıt taşı yener.\n",
      "İlk iki turu kazanan oyunu kazanır. İyi şanslar!\n"
     ]
    },
    {
     "name": "stdin",
     "output_type": "stream",
     "text": [
      "Taş, Kağıt, Makas seçiminizi yapın:  taş\n"
     ]
    },
    {
     "name": "stdout",
     "output_type": "stream",
     "text": [
      "Bilgisayarın seçimi: makas\n",
      "Bu turu kazandınız!\n",
      "Skor - Siz: 1 | Bilgisayar: 0\n"
     ]
    },
    {
     "name": "stdin",
     "output_type": "stream",
     "text": [
      "Taş, Kağıt, Makas seçiminizi yapın:  kağıt\n"
     ]
    },
    {
     "name": "stdout",
     "output_type": "stream",
     "text": [
      "Bilgisayarın seçimi: makas\n",
      "Bilgisayar bu turu kazandı!\n",
      "Skor - Siz: 1 | Bilgisayar: 1\n"
     ]
    },
    {
     "name": "stdin",
     "output_type": "stream",
     "text": [
      "Taş, Kağıt, Makas seçiminizi yapın:  makas\n"
     ]
    },
    {
     "name": "stdout",
     "output_type": "stream",
     "text": [
      "Bilgisayarın seçimi: taş\n",
      "Bilgisayar bu turu kazandı!\n",
      "Skor - Siz: 1 | Bilgisayar: 2\n",
      "Bilgisayar oyunu kazandı!\n"
     ]
    },
    {
     "name": "stdin",
     "output_type": "stream",
     "text": [
      "Başka bir oyun oynamak ister misiniz? (evet/hayır):  evet\n"
     ]
    },
    {
     "name": "stdout",
     "output_type": "stream",
     "text": [
      "Bilgisayarın cevabı: evet\n"
     ]
    },
    {
     "name": "stdin",
     "output_type": "stream",
     "text": [
      "Taş, Kağıt, Makas seçiminizi yapın:  taş\n"
     ]
    },
    {
     "name": "stdout",
     "output_type": "stream",
     "text": [
      "Bilgisayarın seçimi: kağıt\n",
      "Bilgisayar bu turu kazandı!\n",
      "Skor - Siz: 0 | Bilgisayar: 1\n"
     ]
    },
    {
     "name": "stdin",
     "output_type": "stream",
     "text": [
      "Taş, Kağıt, Makas seçiminizi yapın:  taş\n"
     ]
    },
    {
     "name": "stdout",
     "output_type": "stream",
     "text": [
      "Bilgisayarın seçimi: taş\n",
      "Beraberlik!\n",
      "Skor - Siz: 0 | Bilgisayar: 1\n"
     ]
    },
    {
     "name": "stdin",
     "output_type": "stream",
     "text": [
      "Taş, Kağıt, Makas seçiminizi yapın:  taş\n"
     ]
    },
    {
     "name": "stdout",
     "output_type": "stream",
     "text": [
      "Bilgisayarın seçimi: taş\n",
      "Beraberlik!\n",
      "Skor - Siz: 0 | Bilgisayar: 1\n"
     ]
    },
    {
     "name": "stdin",
     "output_type": "stream",
     "text": [
      "Taş, Kağıt, Makas seçiminizi yapın:  taş\n"
     ]
    },
    {
     "name": "stdout",
     "output_type": "stream",
     "text": [
      "Bilgisayarın seçimi: kağıt\n",
      "Bilgisayar bu turu kazandı!\n",
      "Skor - Siz: 0 | Bilgisayar: 2\n",
      "Bilgisayar oyunu kazandı!\n"
     ]
    },
    {
     "name": "stdin",
     "output_type": "stream",
     "text": [
      "Başka bir oyun oynamak ister misiniz? (evet/hayır):  hayır\n"
     ]
    },
    {
     "name": "stdout",
     "output_type": "stream",
     "text": [
      "Bilgisayarın cevabı: hayır\n",
      "Oyun bitti! Son Skor - Siz: 0 | Bilgisayar: 2\n",
      "Katıldığınız için teşekkürler.\n"
     ]
    }
   ],
   "source": [
    "import random\n",
    "\n",
    "def tas_kagit_makas_Bugrahan_Istek():\n",
    "    print(\"Taş, Kağıt, Makas oyununa hoş geldiniz!\")\n",
    "    print(\"Kurallar: Taş makası yener, Makas kağıdı yener, Kağıt taşı yener.\")\n",
    "    print(\"İlk iki turu kazanan oyunu kazanır. İyi şanslar!\")\n",
    "    \n",
    "    secenekler = [\"taş\", \"kağıt\", \"makas\"]\n",
    "    oyuncu_galibiyetleri = 0\n",
    "    bilgisayar_galibiyetleri = 0\n",
    "    \n",
    "    while True:\n",
    "        oyuncu_tur_galibiyetleri = 0\n",
    "        bilgisayar_tur_galibiyetleri = 0\n",
    "        \n",
    "        while oyuncu_tur_galibiyetleri < 2 and bilgisayar_tur_galibiyetleri < 2:\n",
    "            oyuncu_secimi = input(\"Taş, Kağıt, Makas seçiminizi yapın: \").lower()\n",
    "            \n",
    "            while oyuncu_secimi not in secenekler:\n",
    "                oyuncu_secimi = input(\"Geçersiz seçim. Lütfen taş, kağıt veya makas girin: \").lower()\n",
    "            \n",
    "            bilgisayar_secimi = random.choice(secenekler)\n",
    "            print(f\"Bilgisayarın seçimi: {bilgisayar_secimi}\")\n",
    "            \n",
    "            if oyuncu_secimi == bilgisayar_secimi:\n",
    "                print(\"Beraberlik!\")\n",
    "            elif (oyuncu_secimi == \"taş\" and bilgisayar_secimi == \"makas\") or \\\n",
    "                 (oyuncu_secimi == \"makas\" and bilgisayar_secimi == \"kağıt\") or \\\n",
    "                 (oyuncu_secimi == \"kağıt\" and bilgisayar_secimi == \"taş\"):\n",
    "                print(\"Bu turu kazandınız!\")\n",
    "                oyuncu_tur_galibiyetleri += 1\n",
    "            else:\n",
    "                print(\"Bilgisayar bu turu kazandı!\")\n",
    "                bilgisayar_tur_galibiyetleri += 1\n",
    "            \n",
    "            # Skor durumu\n",
    "            print(f\"Skor - Siz: {oyuncu_tur_galibiyetleri} | Bilgisayar: {bilgisayar_tur_galibiyetleri}\")\n",
    "        \n",
    "        if oyuncu_tur_galibiyetleri == 2:\n",
    "            print(\"Tebrikler, oyunu kazandınız!\")\n",
    "            oyuncu_galibiyetleri += 1\n",
    "        else:\n",
    "            print(\"Bilgisayar oyunu kazandı!\")\n",
    "            bilgisayar_galibiyetleri += 1\n",
    "        \n",
    "        devam_mi = input(\"Başka bir oyun oynamak ister misiniz? (evet/hayır): \").lower()\n",
    "        bilgisayar_devam_mi = random.choice([\"evet\", \"hayır\"])\n",
    "        print(f\"Bilgisayarın cevabı: {bilgisayar_devam_mi}\")\n",
    "        \n",
    "        if devam_mi != \"evet\" or bilgisayar_devam_mi != \"evet\":\n",
    "            print(f\"Oyun bitti! Son Skor - Siz: {oyuncu_galibiyetleri} | Bilgisayar: {bilgisayar_galibiyetleri}\")\n",
    "            print(\"Katıldığınız için teşekkürler.\")\n",
    "            break\n",
    "\n",
    "tas_kagit_makas_Bugrahan_Istek()\n"
   ]
  },
  {
   "cell_type": "code",
   "execution_count": null,
   "id": "5cd5fa86-7bfa-45f8-be4c-9e004e2ebbaa",
   "metadata": {},
   "outputs": [],
   "source": []
  }
 ],
 "metadata": {
  "kernelspec": {
   "display_name": "Python 3 (ipykernel)",
   "language": "python",
   "name": "python3"
  },
  "language_info": {
   "codemirror_mode": {
    "name": "ipython",
    "version": 3
   },
   "file_extension": ".py",
   "mimetype": "text/x-python",
   "name": "python",
   "nbconvert_exporter": "python",
   "pygments_lexer": "ipython3",
   "version": "3.12.4"
  }
 },
 "nbformat": 4,
 "nbformat_minor": 5
}
